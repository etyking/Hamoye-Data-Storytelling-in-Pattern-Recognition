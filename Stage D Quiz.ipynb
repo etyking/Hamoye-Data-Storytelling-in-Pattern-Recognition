{
 "cells": [
  {
   "cell_type": "code",
   "execution_count": 1,
   "metadata": {},
   "outputs": [],
   "source": [
    "import pandas as pd\n",
    "import numpy as np"
   ]
  },
  {
   "cell_type": "code",
   "execution_count": 2,
   "metadata": {},
   "outputs": [
    {
     "data": {
      "text/html": [
       "<div>\n",
       "<style scoped>\n",
       "    .dataframe tbody tr th:only-of-type {\n",
       "        vertical-align: middle;\n",
       "    }\n",
       "\n",
       "    .dataframe tbody tr th {\n",
       "        vertical-align: top;\n",
       "    }\n",
       "\n",
       "    .dataframe thead th {\n",
       "        text-align: right;\n",
       "    }\n",
       "</style>\n",
       "<table border=\"1\" class=\"dataframe\">\n",
       "  <thead>\n",
       "    <tr style=\"text-align: right;\">\n",
       "      <th></th>\n",
       "      <th>Country</th>\n",
       "      <th>Year</th>\n",
       "      <th>Value</th>\n",
       "    </tr>\n",
       "  </thead>\n",
       "  <tbody>\n",
       "    <tr>\n",
       "      <th>0</th>\n",
       "      <td>Algeria</td>\n",
       "      <td>2004</td>\n",
       "      <td>2987</td>\n",
       "    </tr>\n",
       "    <tr>\n",
       "      <th>1</th>\n",
       "      <td>Algeria</td>\n",
       "      <td>2005</td>\n",
       "      <td>2958</td>\n",
       "    </tr>\n",
       "    <tr>\n",
       "      <th>2</th>\n",
       "      <td>Algeria</td>\n",
       "      <td>2006</td>\n",
       "      <td>3047</td>\n",
       "    </tr>\n",
       "    <tr>\n",
       "      <th>3</th>\n",
       "      <td>Algeria</td>\n",
       "      <td>2007</td>\n",
       "      <td>3041</td>\n",
       "    </tr>\n",
       "    <tr>\n",
       "      <th>4</th>\n",
       "      <td>Algeria</td>\n",
       "      <td>2008</td>\n",
       "      <td>3048</td>\n",
       "    </tr>\n",
       "  </tbody>\n",
       "</table>\n",
       "</div>"
      ],
      "text/plain": [
       "   Country  Year  Value\n",
       "0  Algeria  2004   2987\n",
       "1  Algeria  2005   2958\n",
       "2  Algeria  2006   3047\n",
       "3  Algeria  2007   3041\n",
       "4  Algeria  2008   3048"
      ]
     },
     "execution_count": 2,
     "metadata": {},
     "output_type": "execute_result"
    }
   ],
   "source": [
    "supply = pd.read_csv (r'C:\\Users\\Windows 10\\Desktop\\Hamoye\\Stage D\\Africa Food Supply (2004 - 2013).csv',encoding='latin-1')\n",
    "supply.head()"
   ]
  },
  {
   "cell_type": "code",
   "execution_count": 3,
   "metadata": {},
   "outputs": [
    {
     "data": {
      "text/html": [
       "<div>\n",
       "<style scoped>\n",
       "    .dataframe tbody tr th:only-of-type {\n",
       "        vertical-align: middle;\n",
       "    }\n",
       "\n",
       "    .dataframe tbody tr th {\n",
       "        vertical-align: top;\n",
       "    }\n",
       "\n",
       "    .dataframe thead th {\n",
       "        text-align: right;\n",
       "    }\n",
       "</style>\n",
       "<table border=\"1\" class=\"dataframe\">\n",
       "  <thead>\n",
       "    <tr style=\"text-align: right;\">\n",
       "      <th></th>\n",
       "      <th>Country</th>\n",
       "      <th>Item</th>\n",
       "      <th>Year</th>\n",
       "      <th>Value</th>\n",
       "    </tr>\n",
       "  </thead>\n",
       "  <tbody>\n",
       "    <tr>\n",
       "      <th>0</th>\n",
       "      <td>Algeria</td>\n",
       "      <td>Wheat and products</td>\n",
       "      <td>2004</td>\n",
       "      <td>2731</td>\n",
       "    </tr>\n",
       "    <tr>\n",
       "      <th>1</th>\n",
       "      <td>Algeria</td>\n",
       "      <td>Wheat and products</td>\n",
       "      <td>2005</td>\n",
       "      <td>2415</td>\n",
       "    </tr>\n",
       "    <tr>\n",
       "      <th>2</th>\n",
       "      <td>Algeria</td>\n",
       "      <td>Wheat and products</td>\n",
       "      <td>2006</td>\n",
       "      <td>2688</td>\n",
       "    </tr>\n",
       "    <tr>\n",
       "      <th>3</th>\n",
       "      <td>Algeria</td>\n",
       "      <td>Wheat and products</td>\n",
       "      <td>2007</td>\n",
       "      <td>2319</td>\n",
       "    </tr>\n",
       "    <tr>\n",
       "      <th>4</th>\n",
       "      <td>Algeria</td>\n",
       "      <td>Wheat and products</td>\n",
       "      <td>2008</td>\n",
       "      <td>1111</td>\n",
       "    </tr>\n",
       "  </tbody>\n",
       "</table>\n",
       "</div>"
      ],
      "text/plain": [
       "   Country                Item  Year  Value\n",
       "0  Algeria  Wheat and products  2004   2731\n",
       "1  Algeria  Wheat and products  2005   2415\n",
       "2  Algeria  Wheat and products  2006   2688\n",
       "3  Algeria  Wheat and products  2007   2319\n",
       "4  Algeria  Wheat and products  2008   1111"
      ]
     },
     "execution_count": 3,
     "metadata": {},
     "output_type": "execute_result"
    }
   ],
   "source": [
    "production = pd.read_csv (r'C:\\Users\\Windows 10\\Desktop\\Hamoye\\Stage D\\Africa Food Production (2004 - 2013).csv',encoding='latin-1')\n",
    "production.head()"
   ]
  },
  {
   "cell_type": "code",
   "execution_count": 4,
   "metadata": {},
   "outputs": [
    {
     "name": "stdout",
     "output_type": "stream",
     "text": [
      "                        Country  Value_sum\n",
      "43                       Zambia       5577\n",
      "13                     Ethiopia       5827\n",
      "7      Central African Republic       6044\n",
      "32                       Rwanda       6050\n",
      "8                          Chad       6082\n",
      "22                   Madagascar       6123\n",
      "44                     Zimbabwe       6184\n",
      "28                   Mozambique       6208\n",
      "1                        Angola       6226\n",
      "35                 Sierra Leone       6261\n",
      "19                        Kenya       6344\n",
      "21                      Liberia       6368\n",
      "42  United Republic of Tanzania       6373\n",
      "9                         Congo       6449\n",
      "3                      Botswana       6539\n",
      "23                       Malawi       6626\n",
      "11                     Djibouti       6715\n",
      "29                      Namibia       6741\n",
      "39                         Togo       6767\n",
      "18                Guinea-Bissau       6783\n",
      "34                      Senegal       6795\n",
      "37                        Sudan       6898\n",
      "6                      Cameroon       6911\n",
      "41                       Uganda       6954\n",
      "38                    Swaziland       7166\n",
      "15                       Gambia       7304\n",
      "30                        Niger       7339\n",
      "2                         Benin       7346\n",
      "17                       Guinea       7372\n",
      "4                  Burkina Faso       7527\n",
      "5                    Cabo Verde       7553\n",
      "33        Sao Tome and Principe       7613\n",
      "20                      Lesotho       7703\n",
      "24                         Mali       7777\n",
      "25                   Mauritania       7831\n",
      "31                      Nigeria       8085\n",
      "14                        Gabon       8107\n",
      "16                        Ghana       8257\n",
      "10                Cote d'Ivoire       8308\n",
      "36                 South Africa       8819\n",
      "0                       Algeria       8992\n",
      "26                    Mauritius       9054\n",
      "27                      Morocco       9740\n",
      "40                      Tunisia       9741\n",
      "12                        Egypt      10065\n"
     ]
    }
   ],
   "source": [
    "# Question 1 - Which three countries had the lowest food supply between 2004 and 2006 respectively(inclusive)?\n",
    "\n",
    "# Keep rows where Year <= 2006\n",
    "supplyData = supply.loc[supply['Year'] <= 2006]\n",
    "\n",
    "# Group by and aggregate\n",
    "groupedLowsupply = supplyData.groupby(['Country']).agg(Value_sum=('Value', 'sum')).reset_index()\n",
    "\n",
    "# Sort column(s) Value_sum ascending\n",
    "LowSupplyCountry = groupedLowsupply.sort_values(by=['Value_sum'], ascending=[True])\n",
    "print(LowSupplyCountry)"
   ]
  },
  {
   "cell_type": "code",
   "execution_count": 5,
   "metadata": {},
   "outputs": [
    {
     "name": "stdout",
     "output_type": "stream",
     "text": [
      "            Country  Item  Year  Value\n",
      "46          Algeria  Oats  2010     88\n",
      "6406       Ethiopia  Oats  2010     48\n",
      "13186       Morocco  Oats  2010     37\n",
      "17816  South Africa  Oats  2010     34\n",
      "9286          Kenya  Oats  2010      3\n",
      "20056       Tunisia  Oats  2010      2\n",
      "22516      Zimbabwe  Oats  2010      1\n",
      "7746          Ghana  Oats  2010      0\n",
      "10026       Lesotho  Oats  2010      0\n"
     ]
    }
   ],
   "source": [
    "# Question 4 - Which country produced the highest amount of oats in 2010?\n",
    "\n",
    "# Keep rows where Item contains Oats\n",
    "oatData = production.loc[production['Item'].str.contains('Oats')]\n",
    "\n",
    "# Keep rows where Year == 2010\n",
    "oatYear = oatData.loc[production['Year'] == 2010]\n",
    "\n",
    "# Sort column(s) Value descending\n",
    "highOatProd = oatYear.sort_values(by=['Value'], ascending=[False])\n",
    "print(highOatProd)\n"
   ]
  },
  {
   "cell_type": "code",
   "execution_count": 6,
   "metadata": {},
   "outputs": [
    {
     "name": "stdout",
     "output_type": "stream",
     "text": [
      "                        Country  Value_sum\n",
      "9                         Egypt      40370\n",
      "26                      Nigeria      26964\n",
      "18                   Madagascar      26118\n",
      "35  United Republic of Tanzania      10956\n",
      "14                       Guinea      10400\n",
      "20                         Mali      10371\n",
      "8                 Cote d'Ivoire       6439\n",
      "29                 Sierra Leone       6038\n",
      "28                      Senegal       2462\n",
      "13                        Ghana       2443\n",
      "17                      Liberia       1602\n",
      "3                  Burkina Faso       1265\n",
      "34                       Uganda       1234\n",
      "6                          Chad       1167\n",
      "24                   Mozambique       1110\n",
      "15                Guinea-Bissau       1030\n",
      "2                         Benin        850\n",
      "4                      Cameroon        767\n",
      "21                   Mauritania        751\n",
      "19                       Malawi        674\n",
      "33                         Togo        653\n",
      "16                        Kenya        504\n",
      "27                       Rwanda        482\n",
      "10                     Ethiopia        469\n",
      "12                       Gambia        325\n",
      "23                      Morocco        274\n",
      "25                        Niger        267\n",
      "5      Central African Republic        261\n",
      "36                       Zambia        212\n",
      "31                        Sudan        170\n",
      "1                        Angola        103\n",
      "30                 South Africa         22\n",
      "11                        Gabon         10\n",
      "7                         Congo         10\n",
      "37                     Zimbabwe          1\n",
      "22                    Mauritius          1\n",
      "32                    Swaziland          0\n",
      "0                       Algeria          0\n"
     ]
    }
   ],
   "source": [
    "# Question 5 - What three countries have produced the highest total quantity of rice from 2004 to 2013?\n",
    "\n",
    "# Keep rows where Item contains rice\n",
    "riceData = production.loc[production['Item'].str.contains('Rice')]\n",
    "\n",
    "# Group by and aggregate\n",
    "groupedRice = riceData.groupby(['Country']).agg(Value_sum=('Value', 'sum')).reset_index()\n",
    "\n",
    "# Sort column(s) Value_sum descending\n",
    "highRiceProd = groupedRice.sort_values(by=['Value_sum'], ascending=[False])\n",
    "print(highRiceProd)"
   ]
  }
 ],
 "metadata": {
  "kernelspec": {
   "display_name": "Python 3.10.5 64-bit",
   "language": "python",
   "name": "python3"
  },
  "language_info": {
   "codemirror_mode": {
    "name": "ipython",
    "version": 3
   },
   "file_extension": ".py",
   "mimetype": "text/x-python",
   "name": "python",
   "nbconvert_exporter": "python",
   "pygments_lexer": "ipython3",
   "version": "3.10.5"
  },
  "orig_nbformat": 4,
  "vscode": {
   "interpreter": {
    "hash": "4000d5fabbf16d46b8685b20ddb4f1205c9618754029a947dbb2cc2ce311cc0f"
   }
  }
 },
 "nbformat": 4,
 "nbformat_minor": 2
}
